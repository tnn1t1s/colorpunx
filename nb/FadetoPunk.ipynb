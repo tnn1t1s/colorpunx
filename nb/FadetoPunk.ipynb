{
 "cells": [
  {
   "cell_type": "markdown",
   "id": "e4edaeeb",
   "metadata": {},
   "source": [
    "# Fade to Punk\n",
    "Using numpy to create animations."
   ]
  },
  {
   "cell_type": "code",
   "execution_count": 2,
   "id": "94a1c998",
   "metadata": {},
   "outputs": [],
   "source": [
    "import sys\n",
    "sys.path.append('..')\n",
    "sys.path.append('/home/tnn1t1s/art/cpunks-10k')\n",
    "\n",
    "import numpy as np\n",
    "import pandas as pd\n",
    "import pickle\n",
    "import matplotlib.image as mpimg\n",
    "import matplotlib.pyplot as plt\n",
    "import matplotlib.animation as animation\n",
    "\n",
    "%matplotlib inline\n",
    "plt.style.use('default')\n",
    "from matplotlib.colors import rgb2hex\n",
    "import matplotlib.pyplot as plt\n",
    "from mpl_toolkits.axes_grid1 import ImageGrid\n",
    "\n",
    "import cpunks.cpunks10k as cpunks10k\n",
    "import cpunks.cutils as cpu"
   ]
  },
  {
   "cell_type": "code",
   "execution_count": 3,
   "id": "2d3765ed",
   "metadata": {},
   "outputs": [],
   "source": [
    "cp = cpunks10k.cpunks10k()\n",
    "(X_train, Y_train), (X_test, Y_test), (labels) = cp.load_data()\n",
    "X = np.concatenate((X_train, X_test), axis=0)\n",
    "df = cp.punks_df"
   ]
  },
  {
   "cell_type": "code",
   "execution_count": 4,
   "id": "bbaa0658",
   "metadata": {},
   "outputs": [
    {
     "data": {
      "text/plain": [
       "<matplotlib.image.AxesImage at 0x7f8e444877c0>"
      ]
     },
     "execution_count": 4,
     "metadata": {},
     "output_type": "execute_result"
    },
    {
     "data": {
      "image/png": "[encoded data removed]",
      "text/plain": [
       "<Figure size 640x480 with 1 Axes>"
      ]
     },
     "metadata": {},
     "output_type": "display_data"
    }
   ],
   "source": [
    "plt.imshow(X[4534])"
   ]
  },
  {
   "cell_type": "code",
   "execution_count": 5,
   "id": "083fce21",
   "metadata": {},
   "outputs": [],
   "source": [
    "img = X[4534]\n",
    "img_flat = cpu.flatten(img).reshape((24*24))\n",
    "mask = np.zeros((24*24), dtype=np.uint8)"
   ]
  },
  {
   "cell_type": "markdown",
   "id": "9b0188c6",
   "metadata": {},
   "source": [
    "### do skin_color, then black, then whatever is left"
   ]
  },
  {
   "cell_type": "code",
   "execution_count": 7,
   "id": "4aa75bbf",
   "metadata": {},
   "outputs": [
    {
     "data": {
      "text/plain": [
       "array(['[0. 0. 0. 0.]', '[0. 0. 0. 1.]',\n",
       "       '[0.5019608  0.85882354 0.85490197 1.        ]',\n",
       "       '[0.5764706  0.21568628 0.03529412 1.        ]',\n",
       "       '[0.6509804  0.43137255 0.17254902 1.        ]',\n",
       "       '[0.7921569  0.30588236 0.06666667 1.        ]',\n",
       "       '[0.85882354 0.69411767 0.5019608  1.        ]'], dtype='<U45')"
      ]
     },
     "execution_count": 7,
     "metadata": {},
     "output_type": "execute_result"
    }
   ],
   "source": [
    "black = '[0. 0. 0. 1.]'\n",
    "skin_color = '[0.85882354 0.69411767 0.5019608  1.        ]'\n",
    "np.unique(img_flat)"
   ]
  },
  {
   "cell_type": "code",
   "execution_count": 8,
   "id": "1201129d",
   "metadata": {},
   "outputs": [],
   "source": [
    "def get_frame(x, mask):\n",
    "    frame = np.array([x[i] if mask[i] else '[0. 0. 0. 0.]' for i in range(0,(24*24))]).reshape(24,24)\n",
    "    return cpu.unflatten(frame)\n",
    "\n",
    "def frames_for_color(img, mask, color, num_to_pop):\n",
    "    '''img is an image flattened with cpunks-10k utils'''\n",
    "    imgs = []\n",
    "    idx = np.where(img == color)[0]\n",
    "    while True:\n",
    "        np.random.shuffle(idx)\n",
    "        n, rest = idx[-num_to_pop:], idx[:-num_to_pop]\n",
    "        # update the mask\n",
    "        np.put(mask, n, np.ones(len(n), dtype=np.int8))\n",
    "        imgs.append(get_frame(img, mask))\n",
    "        if len(rest) <= 0:\n",
    "            break\n",
    "        else:\n",
    "            idx = rest \n",
    "    return (imgs, mask)"
   ]
  },
  {
   "cell_type": "markdown",
   "id": "d84258e4",
   "metadata": {},
   "source": [
    "## run through the colors, adding to mask"
   ]
  },
  {
   "cell_type": "markdown",
   "id": "d9c3ded4",
   "metadata": {},
   "source": [
    "A convincing fade in will start with the skin tones, then black outline."
   ]
  },
  {
   "cell_type": "code",
   "execution_count": 9,
   "id": "58569661",
   "metadata": {},
   "outputs": [],
   "source": [
    "(imgs_1, mask) = frames_for_color(img_flat, mask, skin_color, 3)\n",
    "(imgs_2, mask) = frames_for_color(img_flat, mask, black, 3)"
   ]
  },
  {
   "cell_type": "markdown",
   "id": "334ee3ce",
   "metadata": {},
   "source": [
    "The naive approach to filling in the remaining colors is to do in loop of the remaining unique colors in the punk."
   ]
  },
  {
   "cell_type": "code",
   "execution_count": 14,
   "id": "4969340d",
   "metadata": {},
   "outputs": [],
   "source": [
    "imgs = imgs_1 + imgs_2\n",
    "unique = [\n",
    "           '[0.5019608  0.85882354 0.85490197 1.        ]',\n",
    "           '[0.5764706  0.21568628 0.03529412 1.        ]',\n",
    "           '[0.6509804  0.43137255 0.17254902 1.        ]',\n",
    "           '[0.7921569  0.30588236 0.06666667 1.        ]']\n",
    "\n",
    "for color in unique:\n",
    "    (imgs_new, mask) = frames_for_color(img_flat, mask, color, 3)\n",
    "    imgs = imgs + imgs_new"
   ]
  },
  {
   "cell_type": "code",
   "execution_count": 20,
   "id": "5950ac7f",
   "metadata": {},
   "outputs": [],
   "source": [
    "import matplotlib.animation as animation\n",
    "%matplotlib qt\n",
    "\n",
    "imagelist=imgs\n",
    "fig = plt.figure() \n",
    "\n",
    "\n",
    "im = plt.imshow(imagelist[0])\n",
    "\n",
    "def updatefig(j):\n",
    "    # set the data in the axesimage object\n",
    "    im.set_array(imagelist[j])\n",
    "    return [im]\n",
    "\n",
    "# kick off the animation\n",
    "ani = animation.FuncAnimation(fig, updatefig, frames=range(len(imagelist)), \n",
    "                             interval=96)\n",
    "plt.show()"
   ]
  },
  {
   "cell_type": "markdown",
   "id": "85c136a0",
   "metadata": {},
   "source": [
    "Exercise: is there a better way to sort the remaining colors such that the fade fills in most striking f"
   ]
  }
 ],
 "metadata": {
  "kernelspec": {
   "display_name": "Python 3 (ipykernel)",
   "language": "python",
   "name": "python3"
  },
  "language_info": {
   "codemirror_mode": {
    "name": "ipython",
    "version": 3
   },
   "file_extension": ".py",
   "mimetype": "text/x-python",
   "name": "python",
   "nbconvert_exporter": "python",
   "pygments_lexer": "ipython3",
   "version": "3.9.7"
  }
 },
 "nbformat": 4,
 "nbformat_minor": 5
}
